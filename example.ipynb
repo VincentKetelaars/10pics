{
 "cells": [
  {
   "cell_type": "code",
   "execution_count": null,
   "metadata": {},
   "outputs": [],
   "source": [
    "# How to retrieve this client_secret.json is described in the README\n",
    "secret_file = \"<YOUR DIR>/client_secret.json\"\n",
    "# The credentials.pickle file is there to store your session credentials\n",
    "credentials_file = \"<YOUR DIR>/credentials.pickle\""
   ]
  },
  {
   "cell_type": "code",
   "execution_count": null,
   "metadata": {},
   "outputs": [],
   "source": [
    "from ten_pics.session import SessionManager\n",
    "session_manager = SessionManager(secret_file, credentials_file)"
   ]
  },
  {
   "cell_type": "code",
   "execution_count": null,
   "metadata": {},
   "outputs": [],
   "source": [
    "# Authenticate your client\n",
    "client = session_manager.client()"
   ]
  },
  {
   "cell_type": "code",
   "execution_count": null,
   "metadata": {},
   "outputs": [],
   "source": [
    "\"\"\"\n",
    "Randomly display 10 photos from the past 30 days\n",
    "\"\"\"\n",
    "from datetime import date, timedelta\n",
    "import random\n",
    "\n",
    "from IPython.core.display import Image, display\n",
    "\n",
    "import ten_pics.media\n",
    "import ten_pics.utils\n",
    "\n",
    "# Only look for photos in the last 30 days\n",
    "start_date = date.today() - timedelta(days=30)\n",
    "photos = ten_pics.media.search_photos(client=client, start_date=start_date)\n",
    "\n",
    "photo_urls = random.sample([p[\"baseUrl\"] for p in photos], 10)\n",
    "\n",
    "for url in photo_urls:\n",
    "    file_name = ten_pics.utils.download_media_item(url=ten_pics.media.photo_download_url(base_url=url))\n",
    "    display(Image(filename=file_name, format=\"jpg\"))"
   ]
  },
  {
   "cell_type": "code",
   "execution_count": null,
   "metadata": {},
   "outputs": [],
   "source": []
  }
 ],
 "metadata": {
  "kernelspec": {
   "display_name": "Python 3",
   "language": "python",
   "name": "python3"
  },
  "language_info": {
   "codemirror_mode": {
    "name": "ipython",
    "version": 3
   },
   "file_extension": ".py",
   "mimetype": "text/x-python",
   "name": "python",
   "nbconvert_exporter": "python",
   "pygments_lexer": "ipython3",
   "version": "3.7.6"
  }
 },
 "nbformat": 4,
 "nbformat_minor": 4
}
